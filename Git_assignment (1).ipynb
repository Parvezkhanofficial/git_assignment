{
  "nbformat": 4,
  "nbformat_minor": 0,
  "metadata": {
    "colab": {
      "provenance": []
    },
    "kernelspec": {
      "name": "python3",
      "display_name": "Python 3"
    },
    "language_info": {
      "name": "python"
    }
  },
  "cells": [
    {
      "cell_type": "markdown",
      "source": [
        "#git assignment"
      ],
      "metadata": {
        "id": "rszdI_ZdLNqr"
      }
    },
    {
      "cell_type": "code",
      "source": [
        "''' Q1.\n",
        "        a. Create a new folder\n",
        "        b. Put the following files in the folder\n",
        "                                    Code.txt\n",
        "                                    Log.txt\n",
        "                                    Output.txt\n",
        "        c. Stage the Code.txt and Output.txt files\n",
        "        d. Commit them\n",
        "        e. And finally push them to GitHub '''\n",
        "\n",
        "mkdir newfolder\n",
        "\n",
        "cd newfolder\n",
        "touch code.txt\n",
        "touch log.txt\n",
        "touch output.txt\n",
        "\n",
        "git init\n",
        "git add code.txt\n",
        "git add log.txt\n",
        "git add output.txt\n",
        "\n",
        "git commit -m \"this is commit \"\n",
        "\n",
        "git remote add origin \"github_url\"\n",
        "\n",
        "git push -u origin master\n",
        "'''or '''\n",
        "git push -u origin main\n"
      ],
      "metadata": {
        "id": "A_3dDx8oLSMU"
      },
      "execution_count": null,
      "outputs": []
    },
    {
      "cell_type": "code",
      "source": [
        "'''Q2.\n",
        "1. Create a Git working directory with feature1.txt and feature2.txt in the master branch\n",
        "2. Create 3 branches develop, feature1 and feature2\n",
        "3. In develop branch create develop.txt, do not stage or commit it\n",
        "4. Stash this file and check out to feature1 branch\n",
        "5. Create new.txt file in feature1 branch, stage and commit this file\n",
        "6. Checkout to develop, unstash this file and commit\n",
        "7. Please submit all the Git commands used to do the above step>'''\n",
        "\n",
        "mkdir myworld\n",
        "cd myworld\n",
        "\n",
        "git init\n",
        "touch feature1.txt feature2.txt\n",
        "\n",
        "git Checkout -b \"develop\"\n",
        "git Checkout -b \"feature1\"\n",
        "git Checkout -b \"feature2\"\n",
        "\n",
        "git Checkout develop\n",
        "touch develop.txt\n",
        "git stash --develop.txt\n",
        "\n",
        "git checkout feature1\n",
        "touch new.txt\n",
        "git add new.txt\n",
        "git commit -m \" feature1 branch commit\"\n",
        "\n",
        "git checkout develop\n",
        "git stash apply\n",
        "git commit -m \"develop branch commit\"\n"
      ],
      "metadata": {
        "id": "IlLQYjLHLX1h"
      },
      "execution_count": null,
      "outputs": []
    },
    {
      "cell_type": "code",
      "source": [
        "\n",
        "'''Q3\n",
        "1. Create a Git working directory, with the following branches:\n",
        "               Develop\n",
        "               F1\n",
        "               f2\n",
        "2. In the master branch, commit main.txt file\n",
        "3. Put develop.txt in develop branch, f1.txt and f2.txt in f1 and f2 respectively\n",
        "4. Push all these branches to GitHub\n",
        "5. On local delete f2 branch\n",
        "6. Delete the same branch on GitHub as well\n",
        "'''\n",
        "mkdir myfolder\n",
        "cd myfolder\n",
        "\n",
        "git init\n",
        "touch main.txt\n",
        "\n",
        "git checkout -b \"develop\"\n",
        "git checkout -b \"f1\"\n",
        "git checkout -b \"f2\"\n",
        "\n",
        "git checkout \"develop\"\n",
        "touch develop.txt\n",
        "git checkout f1\n",
        "touch f1.txt\n",
        "git checkout f2\n",
        "touch f2.txt\n",
        "\n",
        "git remote add origin 'github-url'\n",
        "git push -u origin master\n",
        "git push -u origin develop\n",
        "git push -u origin f1\n",
        "git push -u origin f2\n",
        "\n",
        "git branch -d f2\n",
        "\n",
        "git push origin --delete f2"
      ],
      "metadata": {
        "id": "DdyTBD1nLaKh"
      },
      "execution_count": null,
      "outputs": []
    },
    {
      "cell_type": "code",
      "source": [
        "'''Q4\n",
        "1. Put master.txt on master branch, stage and commit\n",
        "2. Create 3 branches: public 1, public 2 and private\n",
        "3. Put public1.txt on public 1 branch, stage and commit\n",
        "4. Merge public 1 on master branch\n",
        "5. Merge public 2 on master branch\n",
        "6. Edit master.txt on private branch, stage and commit\n",
        "7. Now update branch public 1 and public 2 with new master code in private\n",
        "8. Also update new master code on master\n",
        "9. Finally update all the code on the private branch'''\n",
        "\n",
        "mkdir gitproject\n",
        "cd gitproject\n",
        "\n",
        "git init\n",
        "touch master.txt\n",
        "\n",
        "git checkout -b \"public1\"\n",
        "git checkout -b \"public2\"\n",
        "git checkout -b \"private\"\n",
        "\n",
        "git checkout public1\n",
        "touch public1.txt\n",
        "git add public.txt\n",
        "git commit -m 'public1 commit'\n",
        "\n",
        "git checkout master\n",
        "git marge public1\n",
        "git marge public2\n",
        "\n",
        "git checkout private\n",
        "echo 'i am private file' >> private.txt\n",
        "git add private.txt\n",
        "git commit -m \"private branch commit\"\n",
        "\n",
        "git checkout public1\n",
        "git marge private\n",
        "\n",
        "git checkout public2\n",
        "git marge private\n",
        "\n",
        "git checkout master\n",
        "git marge private\n",
        "\n",
        "git checkout private\n",
        "git marge master"
      ],
      "metadata": {
        "id": "m75cZH7mLiBF"
      },
      "execution_count": null,
      "outputs": []
    },
    {
      "cell_type": "code",
      "source": [
        "'''Q5\n",
        "1. Create a Git Flow workflow architecture on Git\n",
        "2. Create all the required branches\n",
        "3. starting from e feature branch, push the branch to the master, following the architecture\n",
        "4. Push an urgent.txt on master using hotfix'''\n",
        "\n",
        "git init\n",
        "git flow init\n",
        "\n",
        "git checkout -b develop\n",
        "git push origin develop\n",
        "\n",
        "git flow feature start awesome-feature\n",
        "git add .\n",
        "git commit -m \"Addfeature\"\n",
        "git flow feature finish awesome-feature\n",
        "\n",
        "git flow release start v1.0.0\n",
        "git flow release finish v1.0.0\n",
        "\n",
        "git push origin master develop --tags\n",
        "\n",
        "git flow hotfix start urgent-fix\n",
        "echo \"changes\" > urgent.txt\n",
        "git add urgent.txt\n",
        "git commit -m \"Hotfix\"\n",
        "git flow hotfix finish urgent-fix\n",
        "git push origin master develop --tags"
      ],
      "metadata": {
        "id": "i_3lyc8cLm4m"
      },
      "execution_count": null,
      "outputs": []
    }
  ]
}